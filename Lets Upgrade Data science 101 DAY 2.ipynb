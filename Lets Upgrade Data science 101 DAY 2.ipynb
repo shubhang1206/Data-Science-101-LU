{
 "cells": [
  {
   "cell_type": "markdown",
   "metadata": {},
   "source": [
    "# Assignment 2\n"
   ]
  },
  {
   "cell_type": "markdown",
   "metadata": {},
   "source": [
    "Q1.) Create an empty list. Accept 10 numbers from the user and append to it the list if it is an even number."
   ]
  },
  {
   "cell_type": "code",
   "execution_count": 1,
   "metadata": {},
   "outputs": [
    {
     "name": "stdout",
     "output_type": "stream",
     "text": [
      "1\n",
      "2\n",
      "3\n",
      "4\n",
      "5\n",
      "6\n",
      "7\n",
      "8\n",
      "9\n",
      "10\n",
      "[2, 4, 6, 8, 10]\n"
     ]
    }
   ],
   "source": [
    "l=[]\n",
    "for i in range(10):\n",
    "    input_number=int(input())\n",
    "    if(input_number%2==0):\n",
    "        l.append(input_number)\n",
    "print(l)"
   ]
  },
  {
   "cell_type": "markdown",
   "metadata": {},
   "source": [
    "Q2.) Create a notebook on LIST COMPREHENSION. This exercise is to put you in a Self learning mode."
   ]
  },
  {
   "cell_type": "code",
   "execution_count": 2,
   "metadata": {},
   "outputs": [
    {
     "name": "stdout",
     "output_type": "stream",
     "text": [
      "[0, 1, 4, 9, 16, 25, 36, 49, 64, 81]\n",
      "['S', 'H', 'U', 'B', 'H', 'A', 'N', 'G']\n",
      "[[0, 1, 2, 3, 4], [0, 1, 2, 3, 4], [0, 1, 2, 3, 4]]\n"
     ]
    }
   ],
   "source": [
    "#For squaring of a list\n",
    "squares = [i * i for i in range(10)]\n",
    "print(squares)\n",
    "# Using list comprehension to iterate through loop\n",
    "List = [character for character in 'SHUBHANG']\n",
    "# Displaying list\n",
    "print(List)\n",
    "# Nested list comprehension \n",
    "matrix = [[j for j in range(5)] for i in range(3)] \n",
    "print(matrix) "
   ]
  },
  {
   "cell_type": "markdown",
   "metadata": {},
   "source": [
    "Q3.) You have seen in the videos how powerful dictionary data structure is.\n",
    "In this assignment, given a number n, you have to write a program that generates a dictionary d which\n",
    "contains (i, i*i), where i is from 1 to n (both included).\n",
    "Then you have to just print this dictionary d."
   ]
  },
  {
   "cell_type": "code",
   "execution_count": 3,
   "metadata": {},
   "outputs": [
    {
     "name": "stdout",
     "output_type": "stream",
     "text": [
      "5\n",
      "{1: 1, 2: 4, 3: 9, 4: 16, 5: 25}\n"
     ]
    }
   ],
   "source": [
    "#collecting size of dictionary\n",
    "n=int(input())\n",
    "dict1={i:i*i for i in range(1,n+1)}\n",
    "print(dict1)"
   ]
  },
  {
   "cell_type": "markdown",
   "metadata": {},
   "source": [
    "Q4.)There is a robot which wants to go the charging point to charge itself.\n",
    "The robot moves in a 2-D plane from the original point (0,0). The robot can\n",
    "move toward UP, DOWN, LEFT and RIGHT with given steps."
   ]
  },
  {
   "cell_type": "code",
   "execution_count": 6,
   "metadata": {},
   "outputs": [
    {
     "name": "stdout",
     "output_type": "stream",
     "text": [
      "4\n",
      "10\n",
      "20\n",
      "4\n",
      "10\n",
      "0\n"
     ]
    }
   ],
   "source": [
    "import math\n",
    "#declaring orgin\n",
    "x,y=0,0\n",
    "#Getting number of movements from user\n",
    "n=int(input(\"\"))\n",
    "for i in range(n):\n",
    "    movement=input()\n",
    "    movement=movement.split(\" \")\n",
    "    #Movements    \n",
    "    if movement[0]=='UP':\n",
    "        y+=int(movement[1])\n",
    "    elif movement[0]=='DOWN':\n",
    "        y-=int(movement[1])\n",
    "    elif movement[0]=='LEFT':\n",
    "        x-=int(movement[1])\n",
    "    elif movement[0]=='RIGHT':\n",
    "        x+=int(movement[1])\n",
    "#Calculating distance\n",
    "result=math.sqrt(x**2+y**2)\n",
    "print(round(result))"
   ]
  }
 ],
 "metadata": {
  "kernelspec": {
   "display_name": "Python 3",
   "language": "python",
   "name": "python3"
  },
  "language_info": {
   "codemirror_mode": {
    "name": "ipython",
    "version": 3
   },
   "file_extension": ".py",
   "mimetype": "text/x-python",
   "name": "python",
   "nbconvert_exporter": "python",
   "pygments_lexer": "ipython3",
   "version": "3.8.3"
  }
 },
 "nbformat": 4,
 "nbformat_minor": 4
}
